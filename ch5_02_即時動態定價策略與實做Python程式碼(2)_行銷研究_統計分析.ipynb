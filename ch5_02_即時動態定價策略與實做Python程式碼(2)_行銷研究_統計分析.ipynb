{
 "cells": [
  {
   "cell_type": "markdown",
   "metadata": {},
   "source": [
    "## 步驟7—資料探勘（data mining）- 統計檢定"
   ]
  },
  {
   "cell_type": "code",
   "execution_count": 2,
   "metadata": {},
   "outputs": [
    {
     "output_type": "stream",
     "name": "stdout",
     "text": [
      "Collecting pingouinNote: you may need to restart the kernel to use updated packages.\n",
      "  Downloading pingouin-0.3.10.tar.gz (204 kB)\n",
      "Requirement already satisfied: numpy>=1.15 in c:\\users\\howar\\appdata\\local\\programs\\python\\python37\\lib\\site-packages (from pingouin) (1.19.5)\n",
      "Requirement already satisfied: scipy>=1.3 in c:\\users\\howar\\appdata\\local\\programs\\python\\python37\\lib\\site-packages (from pingouin) (1.6.1)\n",
      "Requirement already satisfied: pandas>=0.24 in c:\\users\\howar\\appdata\\local\\programs\\python\\python37\\lib\\site-packages (from pingouin) (1.2.3)\n",
      "Requirement already satisfied: matplotlib>=3.0.2 in c:\\users\\howar\\appdata\\local\\programs\\python\\python37\\lib\\site-packages (from pingouin) (3.3.4)\n",
      "Requirement already satisfied: seaborn>=0.9.0 in c:\\users\\howar\\appdata\\local\\programs\\python\\python37\\lib\\site-packages (from pingouin) (0.9.0)\n",
      "Requirement already satisfied: statsmodels>=0.10.0 in c:\\users\\howar\\appdata\\local\\programs\\python\\python37\\lib\\site-packages (from pingouin) (0.12.2)\n",
      "Requirement already satisfied: scikit-learn in c:\\users\\howar\\appdata\\local\\programs\\python\\python37\\lib\\site-packages (from pingouin) (0.22.1)\n",
      "Collecting pandas_flavor>=0.1.2\n",
      "  Downloading pandas_flavor-0.2.0-py2.py3-none-any.whl (6.6 kB)\n",
      "Collecting outdated\n",
      "  Downloading outdated-0.2.1-py3-none-any.whl (7.5 kB)\n",
      "Collecting tabulate\n",
      "  Downloading tabulate-0.8.9-py3-none-any.whl (25 kB)\n",
      "Requirement already satisfied: pytz>=2017.3 in c:\\users\\howar\\appdata\\local\\programs\\python\\python37\\lib\\site-packages (from pandas>=0.24->pingouin) (2021.1)\n",
      "Requirement already satisfied: python-dateutil>=2.7.3 in c:\\users\\howar\\appdata\\roaming\\python\\python37\\site-packages (from pandas>=0.24->pingouin) (2.8.1)\n",
      "Requirement already satisfied: cycler>=0.10 in c:\\users\\howar\\appdata\\local\\programs\\python\\python37\\lib\\site-packages (from matplotlib>=3.0.2->pingouin) (0.10.0)\n",
      "Requirement already satisfied: pillow>=6.2.0 in c:\\users\\howar\\appdata\\local\\programs\\python\\python37\\lib\\site-packages (from matplotlib>=3.0.2->pingouin) (6.2.0)\n",
      "Requirement already satisfied: pyparsing!=2.0.4,!=2.1.2,!=2.1.6,>=2.0.3 in c:\\users\\howar\\appdata\\local\\programs\\python\\python37\\lib\\site-packages (from matplotlib>=3.0.2->pingouin) (2.4.7)\n",
      "Requirement already satisfied: kiwisolver>=1.0.1 in c:\\users\\howar\\appdata\\local\\programs\\python\\python37\\lib\\site-packages (from matplotlib>=3.0.2->pingouin) (1.3.1)\n",
      "Requirement already satisfied: patsy>=0.5 in c:\\users\\howar\\appdata\\local\\programs\\python\\python37\\lib\\site-packages (from statsmodels>=0.10.0->pingouin) (0.5.1)\n",
      "Requirement already satisfied: joblib>=0.11 in c:\\users\\howar\\appdata\\local\\programs\\python\\python37\\lib\\site-packages (from scikit-learn->pingouin) (1.0.1)\n",
      "Collecting xarray\n",
      "  WARNING: The script tabulate.exe is installed in 'C:\\Users\\howar\\AppData\\Local\\Programs\\Python\\Python37\\Scripts' which is not on PATH.\n",
      "  Consider adding this directory to PATH or, if you prefer to suppress this warning, use --no-warn-script-location.\n",
      "WARNING: You are using pip version 20.1.1; however, version 21.0.1 is available.\n",
      "You should consider upgrading via the 'C:\\Users\\howar\\AppData\\Local\\Programs\\Python\\Python37\\python.exe -m pip install --upgrade pip' command.\n",
      "\n",
      "  Downloading xarray-0.17.0-py3-none-any.whl (759 kB)\n",
      "Collecting littleutils\n",
      "  Downloading littleutils-0.2.2.tar.gz (6.6 kB)\n",
      "Requirement already satisfied: requests in c:\\users\\howar\\appdata\\local\\programs\\python\\python37\\lib\\site-packages (from outdated->pingouin) (2.25.1)\n",
      "Requirement already satisfied: six>=1.5 in c:\\users\\howar\\appdata\\roaming\\python\\python37\\site-packages (from python-dateutil>=2.7.3->pandas>=0.24->pingouin) (1.15.0)\n",
      "Requirement already satisfied: setuptools>=40.4 in c:\\users\\howar\\appdata\\local\\programs\\python\\python37\\lib\\site-packages (from xarray->pandas_flavor>=0.1.2->pingouin) (47.1.0)\n",
      "Requirement already satisfied: idna<3,>=2.5 in c:\\users\\howar\\appdata\\local\\programs\\python\\python37\\lib\\site-packages (from requests->outdated->pingouin) (2.10)\n",
      "Requirement already satisfied: urllib3<1.27,>=1.21.1 in c:\\users\\howar\\appdata\\local\\programs\\python\\python37\\lib\\site-packages (from requests->outdated->pingouin) (1.26.3)\n",
      "Requirement already satisfied: certifi>=2017.4.17 in c:\\users\\howar\\appdata\\local\\programs\\python\\python37\\lib\\site-packages (from requests->outdated->pingouin) (2020.12.5)\n",
      "Requirement already satisfied: chardet<5,>=3.0.2 in c:\\users\\howar\\appdata\\local\\programs\\python\\python37\\lib\\site-packages (from requests->outdated->pingouin) (4.0.0)\n",
      "Building wheels for collected packages: pingouin, littleutils\n",
      "  Building wheel for pingouin (setup.py): started\n",
      "  Building wheel for pingouin (setup.py): finished with status 'done'\n",
      "  Created wheel for pingouin: filename=pingouin-0.3.10-py3-none-any.whl size=203396 sha256=14f9984896261edd4a441337113b2b4907b58f1bc00ccc2ad47b70bd8c9e4a0a\n",
      "  Stored in directory: c:\\users\\howar\\appdata\\local\\pip\\cache\\wheels\\b8\\92\\fa\\0257fec4f00e04a8801d3d5c37b2492f969a231137e376bd1f\n",
      "  Building wheel for littleutils (setup.py): started\n",
      "  Building wheel for littleutils (setup.py): finished with status 'done'\n",
      "  Created wheel for littleutils: filename=littleutils-0.2.2-py3-none-any.whl size=7048 sha256=fddc64feca18c39395f9ffecab63ef06f5e7438e43458908a3246672ee92857f\n",
      "  Stored in directory: c:\\users\\howar\\appdata\\local\\pip\\cache\\wheels\\d6\\64\\cd\\32819b511a488e4993f2fab909a95330289c3f4e0f6ef4676d\n",
      "Successfully built pingouin littleutils\n",
      "Installing collected packages: xarray, pandas-flavor, littleutils, outdated, tabulate, pingouin\n",
      "Successfully installed littleutils-0.2.2 outdated-0.2.1 pandas-flavor-0.2.0 pingouin-0.3.10 tabulate-0.8.9 xarray-0.17.0\n"
     ]
    }
   ],
   "source": [
    "pip install pingouin"
   ]
  },
  {
   "cell_type": "code",
   "execution_count": 5,
   "metadata": {},
   "outputs": [
    {
     "output_type": "stream",
     "name": "stdout",
     "text": [
      "Collecting scikit_posthocsNote: you may need to restart the kernel to use updated packages.\n",
      "  Downloading scikit-posthocs-0.6.7.tar.gz (43 kB)\n",
      "  Installing build dependencies: started\n",
      "  Installing build dependencies: finished with status 'done'\n",
      "  Getting requirements to build wheel: started\n",
      "  Getting requirements to build wheel: finished with status 'done'\n",
      "    Preparing wheel metadata: started\n",
      "    Preparing wheel metadata: finished with status 'done'\n",
      "Requirement already satisfied: scipy in c:\\users\\howar\\appdata\\local\\programs\\python\\python37\\lib\\site-packages (from scikit_posthocs) (1.6.1)\n",
      "Requirement already satisfied: matplotlib in c:\\users\\howar\\appdata\\local\\programs\\python\\python37\\lib\\site-packages (from scikit_posthocs) (3.3.4)\n",
      "Requirement already satisfied: pandas>=0.20.0 in c:\\users\\howar\\appdata\\local\\programs\\python\\python37\\lib\\site-packages (from scikit_posthocs) (1.2.3)\n",
      "Requirement already satisfied: statsmodels in c:\\users\\howar\\appdata\\local\\programs\\python\\python37\\lib\\site-packages (from scikit_posthocs) (0.12.2)\n",
      "\n",
      "Requirement already satisfied: numpy in c:\\users\\howar\\appdata\\local\\programs\\python\\python37\\lib\\site-packages (from scikit_posthocs) (1.19.5)\n",
      "Requirement already satisfied: seaborn in c:\\users\\howar\\appdata\\local\\programs\\python\\python37\\lib\\site-packages (from scikit_posthocs) (0.9.0)\n",
      "Requirement already satisfied: pyparsing!=2.0.4,!=2.1.2,!=2.1.6,>=2.0.3 in c:\\users\\howar\\appdata\\local\\programs\\python\\python37\\lib\\site-packages (from matplotlib->scikit_posthocs) (2.4.7)\n",
      "Requirement already satisfied: python-dateutil>=2.1 in c:\\users\\howar\\appdata\\roaming\\python\\python37\\site-packages (from matplotlib->scikit_posthocs) (2.8.1)\n",
      "Requirement already satisfied: kiwisolver>=1.0.1 in c:\\users\\howar\\appdata\\local\\programs\\python\\python37\\lib\\site-packages (from matplotlib->scikit_posthocs) (1.3.1)\n",
      "Requirement already satisfied: cycler>=0.10 in c:\\users\\howar\\appdata\\local\\programs\\python\\python37\\lib\\site-packages (from matplotlib->scikit_posthocs) (0.10.0)\n",
      "Requirement already satisfied: pillow>=6.2.0 in c:\\users\\howar\\appdata\\local\\programs\\python\\python37\\lib\\site-packages (from matplotlib->scikit_posthocs) (6.2.0)\n",
      "Requirement already satisfied: pytz>=2017.3 in c:\\users\\howar\\appdata\\local\\programs\\python\\python37\\lib\\site-packages (from pandas>=0.20.0->scikit_posthocs) (2021.1)\n",
      "Requirement already satisfied: patsy>=0.5 in c:\\users\\howar\\appdata\\local\\programs\\python\\python37\\lib\\site-packages (from statsmodels->scikit_posthocs) (0.5.1)WARNING: You are using pip version 20.1.1; however, version 21.0.1 is available.\n",
      "You should consider upgrading via the 'C:\\Users\\howar\\AppData\\Local\\Programs\\Python\\Python37\\python.exe -m pip install --upgrade pip' command.\n",
      "\n",
      "Requirement already satisfied: six>=1.5 in c:\\users\\howar\\appdata\\roaming\\python\\python37\\site-packages (from python-dateutil>=2.1->matplotlib->scikit_posthocs) (1.15.0)\n",
      "Building wheels for collected packages: scikit-posthocs\n",
      "  Building wheel for scikit-posthocs (PEP 517): started\n",
      "  Building wheel for scikit-posthocs (PEP 517): finished with status 'done'\n",
      "  Created wheel for scikit-posthocs: filename=scikit_posthocs-0.6.7-py3-none-any.whl size=37886 sha256=9a6df41e026e5c0f834182c038942b46160816193ecd858410086e1212313bf3\n",
      "  Stored in directory: c:\\users\\howar\\appdata\\local\\pip\\cache\\wheels\\b8\\21\\e6\\f39794d4a6ee3d3cc5146ca80b5cd949452ad4a8fde9f6b9fc\n",
      "Successfully built scikit-posthocs\n",
      "Installing collected packages: scikit-posthocs\n",
      "Successfully installed scikit-posthocs-0.6.7\n"
     ]
    }
   ],
   "source": [
    "pip install scikit_posthocs"
   ]
  },
  {
   "cell_type": "code",
   "execution_count": 6,
   "metadata": {},
   "outputs": [],
   "source": [
    "import pandas as pd\n",
    "import numpy as np\n",
    "from scipy import stats\n",
    "import statistics\n",
    "from pingouin import pairwise_tukey\n",
    "import scikit_posthocs as sp\n",
    "from scipy.stats import t\n",
    "from pingouin import kruskal\n",
    "from scipy.stats import kruskal as stkr\n",
    "from math import sqrt"
   ]
  },
  {
   "cell_type": "code",
   "execution_count": 7,
   "metadata": {},
   "outputs": [],
   "source": [
    "lgb=pd.read_csv(\"lgb.csv\")\n",
    "rnn=pd.read_csv(\"rnn.csv\")\n",
    "elasticnet=pd.read_csv(\"elasticnet.csv\")"
   ]
  },
  {
   "cell_type": "code",
   "execution_count": 8,
   "metadata": {},
   "outputs": [],
   "source": [
    "rnn['larger'] = np.where( rnn['predictions'] > rnn['actual_values'], 1,0)"
   ]
  },
  {
   "cell_type": "code",
   "execution_count": 9,
   "metadata": {},
   "outputs": [
    {
     "output_type": "execute_result",
     "data": {
      "text/plain": [
       "1    152956\n",
       "0    143378\n",
       "Name: larger, dtype: int64"
      ]
     },
     "metadata": {},
     "execution_count": 9
    }
   ],
   "source": [
    "rnn['larger'].value_counts()"
   ]
  },
  {
   "cell_type": "code",
   "execution_count": 10,
   "metadata": {},
   "outputs": [
    {
     "output_type": "execute_result",
     "data": {
      "text/plain": [
       "1.066802438309922"
      ]
     },
     "metadata": {},
     "execution_count": 10
    }
   ],
   "source": [
    "152956/143378"
   ]
  },
  {
   "cell_type": "code",
   "execution_count": 11,
   "metadata": {},
   "outputs": [],
   "source": [
    "lgb_test_abs=lgb[\"error_square\"]\n",
    "rnn_test_abs=rnn[\"error_square\"]\n",
    "elasticnet_test_abs=elasticnet[\"error_square\"]\n",
    "# 單純相減\n",
    "lgb_test=lgb[\"error\"]\n",
    "rnn_test=rnn[\"error\"]\n",
    "elasticnet_test=elasticnet[\"error\"]"
   ]
  },
  {
   "cell_type": "code",
   "execution_count": 12,
   "metadata": {},
   "outputs": [
    {
     "output_type": "stream",
     "name": "stdout",
     "text": [
      "ShapiroResult(statistic=0.850741982460022, pvalue=0.0)\n",
      "ShapiroResult(statistic=0.8422949314117432, pvalue=0.0)\n",
      "ShapiroResult(statistic=0.885456919670105, pvalue=0.0)\n",
      "C:\\Users\\howar\\AppData\\Local\\Programs\\Python\\Python37\\lib\\site-packages\\scipy\\stats\\morestats.py:1681: UserWarning: p-value may not be accurate for N > 5000.\n",
      "  warnings.warn(\"p-value may not be accurate for N > 5000.\")\n"
     ]
    }
   ],
   "source": [
    "# 檢驗常態性\n",
    "print(stats.shapiro(lgb_test_abs))\n",
    "print(stats.shapiro(rnn_test_abs))\n",
    "print(stats.shapiro(elasticnet_test_abs))\n",
    "\n",
    "#\n",
    "# print(stats.shapiro(lgb_test))\n",
    "# print(stats.shapiro(rnn_test))\n",
    "# print(stats.shapiro(elasticnet_test))"
   ]
  },
  {
   "cell_type": "code",
   "execution_count": 13,
   "metadata": {},
   "outputs": [],
   "source": [
    "import matplotlib.pyplot as plt\n",
    "import seaborn as sns"
   ]
  },
  {
   "cell_type": "markdown",
   "metadata": {},
   "source": [
    "## 簡單看一下單純相減的分布，看起來真的蠻常態的，雖然都沒過..."
   ]
  },
  {
   "cell_type": "code",
   "execution_count": 14,
   "metadata": {},
   "outputs": [
    {
     "output_type": "execute_result",
     "data": {
      "text/plain": [
       "'\\nplt.figure(figsize=(12,4))\\nplt.subplot(1,2,1)\\nsns.distplot(rnn_test , fit=stats.norm)\\n#\\nplt.figure(figsize=(12,4))\\nplt.subplot(1,2,1)\\nsns.distplot(elasticnet_test , fit=stats.norm)\\n#\\nplt.figure(figsize=(12,4))\\nplt.subplot(1,2,1)\\nsns.distplot(lgb_test , fit=stats.norm)\\n'"
      ]
     },
     "metadata": {},
     "execution_count": 14
    }
   ],
   "source": [
    "'''\n",
    "plt.figure(figsize=(12,4))\n",
    "plt.subplot(1,2,1)\n",
    "sns.distplot(rnn_test , fit=stats.norm)\n",
    "#\n",
    "plt.figure(figsize=(12,4))\n",
    "plt.subplot(1,2,1)\n",
    "sns.distplot(elasticnet_test , fit=stats.norm)\n",
    "#\n",
    "plt.figure(figsize=(12,4))\n",
    "plt.subplot(1,2,1)\n",
    "sns.distplot(lgb_test , fit=stats.norm)\n",
    "'''"
   ]
  },
  {
   "cell_type": "code",
   "execution_count": 15,
   "metadata": {},
   "outputs": [
    {
     "output_type": "execute_result",
     "data": {
      "text/plain": [
       "LeveneResult(statistic=27195.133220990345, pvalue=0.0)"
      ]
     },
     "metadata": {},
     "execution_count": 15
    }
   ],
   "source": [
    "#同質\n",
    "stats.levene(lgb_test_abs, rnn_test_abs, elasticnet_test_abs)"
   ]
  },
  {
   "cell_type": "code",
   "execution_count": 16,
   "metadata": {},
   "outputs": [
    {
     "output_type": "execute_result",
     "data": {
      "text/plain": [
       "LeveneResult(statistic=43386.4313120569, pvalue=0.0)"
      ]
     },
     "metadata": {},
     "execution_count": 16
    }
   ],
   "source": [
    "#單純相減\n",
    "stats.levene(lgb_test, rnn_test, elasticnet_test)"
   ]
  },
  {
   "cell_type": "markdown",
   "metadata": {},
   "source": [
    "## Anova(僅參考就好)"
   ]
  },
  {
   "cell_type": "code",
   "execution_count": 17,
   "metadata": {},
   "outputs": [
    {
     "output_type": "execute_result",
     "data": {
      "text/plain": [
       "F_onewayResult(statistic=46162.19208493998, pvalue=0.0)"
      ]
     },
     "metadata": {},
     "execution_count": 17
    }
   ],
   "source": [
    "# 取絕對值的結果\n",
    "stats.f_oneway(lgb_test_abs, rnn_test_abs, elasticnet_test_abs)"
   ]
  },
  {
   "cell_type": "code",
   "execution_count": 18,
   "metadata": {},
   "outputs": [
    {
     "output_type": "execute_result",
     "data": {
      "text/plain": [
       "F_onewayResult(statistic=0.6820902060365664, pvalue=0.5055594290081289)"
      ]
     },
     "metadata": {},
     "execution_count": 18
    }
   ],
   "source": [
    "# 單純相減的結果\n",
    "stats.f_oneway(lgb_test, rnn_test, elasticnet_test)"
   ]
  },
  {
   "cell_type": "markdown",
   "metadata": {},
   "source": [
    "## 無母數kruskal"
   ]
  },
  {
   "cell_type": "code",
   "execution_count": 19,
   "metadata": {},
   "outputs": [],
   "source": [
    "# 建立需要使用的dataframe\n",
    "data_abs=pd.DataFrame({\"rnn\":rnn_test_abs,\"lgb\":lgb_test_abs,\"elasticnet\":elasticnet_test_abs})\n",
    "data_abs = data_abs.melt(var_name='groups', value_name='values')"
   ]
  },
  {
   "cell_type": "code",
   "execution_count": 20,
   "metadata": {},
   "outputs": [
    {
     "output_type": "execute_result",
     "data": {
      "text/plain": [
       "            groups    values\n",
       "0              rnn  0.097955\n",
       "1              rnn  0.413533\n",
       "2              rnn  0.006258\n",
       "3              rnn  0.152499\n",
       "4              rnn  0.122633\n",
       "...            ...       ...\n",
       "888997  elasticnet  2.106814\n",
       "888998  elasticnet  0.272732\n",
       "888999  elasticnet  0.272732\n",
       "889000  elasticnet  0.147569\n",
       "889001  elasticnet  0.732790\n",
       "\n",
       "[889002 rows x 2 columns]"
      ],
      "text/html": "<div>\n<style scoped>\n    .dataframe tbody tr th:only-of-type {\n        vertical-align: middle;\n    }\n\n    .dataframe tbody tr th {\n        vertical-align: top;\n    }\n\n    .dataframe thead th {\n        text-align: right;\n    }\n</style>\n<table border=\"1\" class=\"dataframe\">\n  <thead>\n    <tr style=\"text-align: right;\">\n      <th></th>\n      <th>groups</th>\n      <th>values</th>\n    </tr>\n  </thead>\n  <tbody>\n    <tr>\n      <th>0</th>\n      <td>rnn</td>\n      <td>0.097955</td>\n    </tr>\n    <tr>\n      <th>1</th>\n      <td>rnn</td>\n      <td>0.413533</td>\n    </tr>\n    <tr>\n      <th>2</th>\n      <td>rnn</td>\n      <td>0.006258</td>\n    </tr>\n    <tr>\n      <th>3</th>\n      <td>rnn</td>\n      <td>0.152499</td>\n    </tr>\n    <tr>\n      <th>4</th>\n      <td>rnn</td>\n      <td>0.122633</td>\n    </tr>\n    <tr>\n      <th>...</th>\n      <td>...</td>\n      <td>...</td>\n    </tr>\n    <tr>\n      <th>888997</th>\n      <td>elasticnet</td>\n      <td>2.106814</td>\n    </tr>\n    <tr>\n      <th>888998</th>\n      <td>elasticnet</td>\n      <td>0.272732</td>\n    </tr>\n    <tr>\n      <th>888999</th>\n      <td>elasticnet</td>\n      <td>0.272732</td>\n    </tr>\n    <tr>\n      <th>889000</th>\n      <td>elasticnet</td>\n      <td>0.147569</td>\n    </tr>\n    <tr>\n      <th>889001</th>\n      <td>elasticnet</td>\n      <td>0.732790</td>\n    </tr>\n  </tbody>\n</table>\n<p>889002 rows × 2 columns</p>\n</div>"
     },
     "metadata": {},
     "execution_count": 20
    }
   ],
   "source": [
    "data_abs"
   ]
  },
  {
   "cell_type": "code",
   "execution_count": 21,
   "metadata": {},
   "outputs": [
    {
     "output_type": "execute_result",
     "data": {
      "text/plain": [
       "         Source  ddof1             H  p-unc\n",
       "Kruskal  groups      2  71901.853172    0.0"
      ],
      "text/html": "<div>\n<style scoped>\n    .dataframe tbody tr th:only-of-type {\n        vertical-align: middle;\n    }\n\n    .dataframe tbody tr th {\n        vertical-align: top;\n    }\n\n    .dataframe thead th {\n        text-align: right;\n    }\n</style>\n<table border=\"1\" class=\"dataframe\">\n  <thead>\n    <tr style=\"text-align: right;\">\n      <th></th>\n      <th>Source</th>\n      <th>ddof1</th>\n      <th>H</th>\n      <th>p-unc</th>\n    </tr>\n  </thead>\n  <tbody>\n    <tr>\n      <th>Kruskal</th>\n      <td>groups</td>\n      <td>2</td>\n      <td>71901.853172</td>\n      <td>0.0</td>\n    </tr>\n  </tbody>\n</table>\n</div>"
     },
     "metadata": {},
     "execution_count": 21
    }
   ],
   "source": [
    "# 檢定多個獨立母體之中位數是否相等\n",
    "# m=2時和wilcoxon等價\n",
    "# 結論:拒絕三者中位數相等\n",
    "kruskal(data=data_abs, dv='values', between='groups')"
   ]
  },
  {
   "cell_type": "code",
   "execution_count": 22,
   "metadata": {},
   "outputs": [
    {
     "output_type": "execute_result",
     "data": {
      "text/plain": [
       "KruskalResult(statistic=71901.8531719661, pvalue=0.0)"
      ]
     },
     "metadata": {},
     "execution_count": 22
    }
   ],
   "source": [
    "# double check\n",
    "stkr(lgb_test_abs, rnn_test_abs, elasticnet_test_abs)"
   ]
  },
  {
   "cell_type": "code",
   "execution_count": 23,
   "metadata": {},
   "outputs": [
    {
     "output_type": "execute_result",
     "data": {
      "text/plain": [
       "            elasticnet           lgb           rnn\n",
       "elasticnet         1.0  0.000000e+00  0.000000e+00\n",
       "lgb                0.0  1.000000e+00  4.444382e-87\n",
       "rnn                0.0  4.444382e-87  1.000000e+00"
      ],
      "text/html": "<div>\n<style scoped>\n    .dataframe tbody tr th:only-of-type {\n        vertical-align: middle;\n    }\n\n    .dataframe tbody tr th {\n        vertical-align: top;\n    }\n\n    .dataframe thead th {\n        text-align: right;\n    }\n</style>\n<table border=\"1\" class=\"dataframe\">\n  <thead>\n    <tr style=\"text-align: right;\">\n      <th></th>\n      <th>elasticnet</th>\n      <th>lgb</th>\n      <th>rnn</th>\n    </tr>\n  </thead>\n  <tbody>\n    <tr>\n      <th>elasticnet</th>\n      <td>1.0</td>\n      <td>0.000000e+00</td>\n      <td>0.000000e+00</td>\n    </tr>\n    <tr>\n      <th>lgb</th>\n      <td>0.0</td>\n      <td>1.000000e+00</td>\n      <td>4.444382e-87</td>\n    </tr>\n    <tr>\n      <th>rnn</th>\n      <td>0.0</td>\n      <td>4.444382e-87</td>\n      <td>1.000000e+00</td>\n    </tr>\n  </tbody>\n</table>\n</div>"
     },
     "metadata": {},
     "execution_count": 23
    }
   ],
   "source": [
    "# kruskal posthoc\n",
    "sp.posthoc_dunn(data_abs,\"values\",\"groups\",\"bonferroni\")"
   ]
  },
  {
   "cell_type": "code",
   "execution_count": 24,
   "metadata": {},
   "outputs": [
    {
     "output_type": "stream",
     "name": "stdout",
     "text": [
      "0.2674252386020717\n",
      "0.25213483577908136\n",
      "0.4958753224136281\n"
     ]
    }
   ],
   "source": [
    "# 查看彼此之間的中位數 # 結論elasticnet > rnn = lgb\n",
    "print(statistics.median(lgb_test_abs))\n",
    "print(statistics.median(rnn_test_abs))\n",
    "print(statistics.median(elasticnet_test_abs))"
   ]
  },
  {
   "cell_type": "markdown",
   "metadata": {},
   "source": [
    "## 簡單看一下單純相減的結果"
   ]
  },
  {
   "cell_type": "code",
   "execution_count": 25,
   "metadata": {},
   "outputs": [
    {
     "output_type": "execute_result",
     "data": {
      "text/plain": [
       "KruskalResult(statistic=1914.6000242861808, pvalue=0.0)"
      ]
     },
     "metadata": {},
     "execution_count": 25
    }
   ],
   "source": [
    "stkr(lgb_test, rnn_test, elasticnet_test)"
   ]
  },
  {
   "cell_type": "code",
   "execution_count": 26,
   "metadata": {},
   "outputs": [
    {
     "output_type": "execute_result",
     "data": {
      "text/plain": [
       "               elasticnet            lgb       rnn\n",
       "elasticnet   1.000000e+00  5.290818e-294  0.000000\n",
       "lgb         5.290818e-294   1.000000e+00  0.059656\n",
       "rnn          0.000000e+00   5.965644e-02  1.000000"
      ],
      "text/html": "<div>\n<style scoped>\n    .dataframe tbody tr th:only-of-type {\n        vertical-align: middle;\n    }\n\n    .dataframe tbody tr th {\n        vertical-align: top;\n    }\n\n    .dataframe thead th {\n        text-align: right;\n    }\n</style>\n<table border=\"1\" class=\"dataframe\">\n  <thead>\n    <tr style=\"text-align: right;\">\n      <th></th>\n      <th>elasticnet</th>\n      <th>lgb</th>\n      <th>rnn</th>\n    </tr>\n  </thead>\n  <tbody>\n    <tr>\n      <th>elasticnet</th>\n      <td>1.000000e+00</td>\n      <td>5.290818e-294</td>\n      <td>0.000000</td>\n    </tr>\n    <tr>\n      <th>lgb</th>\n      <td>5.290818e-294</td>\n      <td>1.000000e+00</td>\n      <td>0.059656</td>\n    </tr>\n    <tr>\n      <th>rnn</th>\n      <td>0.000000e+00</td>\n      <td>5.965644e-02</td>\n      <td>1.000000</td>\n    </tr>\n  </tbody>\n</table>\n</div>"
     },
     "metadata": {},
     "execution_count": 26
    }
   ],
   "source": [
    "data=pd.DataFrame({\"rnn\":rnn_test,\"lgb\":lgb_test,\"elasticnet\":elasticnet_test})\n",
    "data = data.melt(var_name='groups', value_name='values')\n",
    "sp.posthoc_dunn(data,\"values\",\"groups\",\"bonferroni\")"
   ]
  },
  {
   "cell_type": "code",
   "execution_count": 27,
   "metadata": {},
   "outputs": [
    {
     "output_type": "stream",
     "name": "stdout",
     "text": [
      "0.0173252898500244\n0.014558251091027551\n0.0904102143054639\n"
     ]
    }
   ],
   "source": [
    "#結論: elasticnet > rnn > lgb(與50000筆結論相同)\n",
    "print(statistics.median(lgb_test))\n",
    "print(statistics.median(rnn_test))\n",
    "print(statistics.median(elasticnet_test))"
   ]
  }
 ],
 "metadata": {
  "kernelspec": {
   "name": "python379jvsc74a57bd02929ee0822fdc46cd033fb3c17e1dd55d304741ca92a32ba3683308b5e1000ae",
   "display_name": "Python 3.7.9 64-bit"
  },
  "language_info": {
   "codemirror_mode": {
    "name": "ipython",
    "version": 3
   },
   "file_extension": ".py",
   "mimetype": "text/x-python",
   "name": "python",
   "nbconvert_exporter": "python",
   "pygments_lexer": "ipython3",
   "version": "3.7.9"
  },
  "orig_nbformat": 2,
  "metadata": {
   "interpreter": {
    "hash": "2929ee0822fdc46cd033fb3c17e1dd55d304741ca92a32ba3683308b5e1000ae"
   }
  }
 },
 "nbformat": 4,
 "nbformat_minor": 2
}